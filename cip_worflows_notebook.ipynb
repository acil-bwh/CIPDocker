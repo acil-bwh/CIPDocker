{
 "cells": [
  {
   "cell_type": "markdown",
   "metadata": {},
   "source": [
    "# Chest Imaging Platform (CIP) workflows execution"
   ]
  },
  {
   "cell_type": "markdown",
   "metadata": {},
   "source": [
    "This notebook walk you through the utilization of 3 different analysis pipelines for Chest CT, using the tools available in the Chest Imaging Platform."
   ]
  },
  {
   "cell_type": "markdown",
   "metadata": {},
   "source": [
    "#### Configuration and data preparation.\n",
    "- In order to use the scripts you need to have installed docker on your machine.\n",
    "- The input format for the workflows can be a folder with a dicom series, or a NRRD (.nrrd) volume."
   ]
  },
  {
   "cell_type": "code",
   "execution_count": null,
   "metadata": {},
   "outputs": [],
   "source": [
    "# pull the CIP docker image\n",
    "!docker pull acilbwh/chestimagingplatform"
   ]
  },
  {
   "cell_type": "code",
   "execution_count": null,
   "metadata": {},
   "outputs": [],
   "source": [
    "# install pandas for data visualization\n",
    "!pip install pandas\n",
    "import pandas as pd"
   ]
  },
  {
   "cell_type": "code",
   "execution_count": null,
   "metadata": {},
   "outputs": [],
   "source": [
    "#print the current path\n",
    "curr_dir = !pwd\n",
    "print (\"Current path:\", curr_dir[-1])"
   ]
  },
  {
   "cell_type": "markdown",
   "metadata": {},
   "source": [
    "### The following cell promt to introduce:\n",
    "1. The name of the dicom folder or NRRD volume to analyze. If this is a folder, the dicom images must be in that folder level and not be in sub-folders. In case it is a NRRD volume the name of the file must be introduced without the .nrrd extension.\n",
    "2. The path where the input folder or NRRD volume is located. This path will be also used to copy all outputs generated on the workflows."
   ]
  },
  {
   "cell_type": "code",
   "execution_count": null,
   "metadata": {},
   "outputs": [],
   "source": [
    "in_ct = input(\"Introduce the name of the dicom folder or NRRD volume: \")\n",
    "work_path = input(\"Introduce the absolute path where the dicom folder or NRRD volume is: \")"
   ]
  },
  {
   "cell_type": "markdown",
   "metadata": {},
   "source": [
    "## Workflow 1: Densitometry analysis\n",
    "This workflow performs a lung segmentation if needed (*_partialLungLabelMap.nrrd) and extract a lung mask with emphysema subtyping (*_localHistogramEmphysema.nrrd).\n",
    "Then a densitometry analysis is perfomerd using the lung mask subtyping (*_parenchymaPhenotypes.csv) ."
   ]
  },
  {
   "cell_type": "code",
   "execution_count": null,
   "metadata": {},
   "outputs": [],
   "source": [
    "# This script takes two positional arguments. The name of the dicom folder or nrrd volume and the absolute\n",
    "# where this folder or file is located.\n",
    "!bash cip_densitometry_analysis.sh {in_ct} {work_path}"
   ]
  },
  {
   "cell_type": "code",
   "execution_count": null,
   "metadata": {},
   "outputs": [],
   "source": [
    "# display parenchyma phenotypes results\n",
    "phenotypes = pd.read_csv(in_ct+\"_parenchymaPhenotypes.csv\")\n",
    "drop_list = ['Machine', 'OS_Version', 'Version', 'Generator', 'Run_TimeStamp', 'OS_Kernel', 'OS_Arch', 'OS_Name']\n",
    "for drop_item in drop_list:\n",
    "    if drop_item in list(phenotypes.columns):\n",
    "        phenotypes.drop(drop_item, axis=1, inplace=True)\n",
    "display(phenotypes)"
   ]
  },
  {
   "cell_type": "markdown",
   "metadata": {},
   "source": [
    "## Workflow 2: Vascular analysis\n",
    "This workflow performs a lung segmentation if needed (_partialLungLabelMap.nrrd) and extract a vessel particles tree (_wholeLungVesselParticles.vtk) then compute several vascular phenotypes from the particles information (_vasculaPhenotypes.csv)."
   ]
  },
  {
   "cell_type": "code",
   "execution_count": null,
   "metadata": {},
   "outputs": [],
   "source": [
    "# This script takes two positional arguments. The name of the dicom folder or nrrd volume and the absolute\n",
    "# where this folder or file is located.\n",
    "!bash cip_vascular_analysis.sh {in_ct} {work_path}"
   ]
  },
  {
   "cell_type": "code",
   "execution_count": null,
   "metadata": {},
   "outputs": [],
   "source": [
    "# display vascular phenotypes results\n",
    "vascular = pd.read_csv(in_ct+\"_vascularPhenotypes.csv\")\n",
    "drop_list = ['Machine', 'OS_Version', 'Version', 'Generator', 'Run_TimeStamp', 'OS_Kernel', 'OS_Arch', 'OS_Name']\n",
    "for drop_item in drop_list:\n",
    "    if drop_item in list(vascular.columns):\n",
    "        vascular.drop(drop_item, axis=1, inplace=True)\n",
    "display(vascular)"
   ]
  },
  {
   "cell_type": "markdown",
   "metadata": {},
   "source": [
    "## Workflow 3: Airway analysis\n",
    "This workflow performs a lung segmentation if needed (*_partialLungLabelMap.nrrd) and extract an aorway particles tree (*_wholeLungAirwayParticles.vtk) then compute several airway phenotypes from the particles information (*_airwayPhenotypes.csv)."
   ]
  },
  {
   "cell_type": "code",
   "execution_count": null,
   "metadata": {},
   "outputs": [],
   "source": [
    "# This script takes two positional arguments. The name of the dicom folder or nrrd volume and the absolute\n",
    "# where this folder or file is located.\n",
    "!bash cip_airway_analysis.sh {in_ct} {work_path}"
   ]
  },
  {
   "cell_type": "code",
   "execution_count": null,
   "metadata": {},
   "outputs": [],
   "source": [
    "# display airway phenotypes results\n",
    "airway = pd.read_csv(in_ct + \"_airwayPhenotypes.csv\")\n",
    "drop_list = ['Machine', 'OS_Version', 'Version', 'Generator', 'Run_TimeStamp', 'OS_Kernel', 'OS_Arch', 'OS_Name']\n",
    "for drop_item in drop_list:\n",
    "    if drop_item in list(airway.columns):\n",
    "        airway.drop(drop_item, axis=1, inplace=True)\n",
    "display(airway)"
   ]
  }
 ],
 "metadata": {
  "kernelspec": {
   "display_name": "Python 3",
   "language": "python",
   "name": "python3"
  },
  "language_info": {
   "codemirror_mode": {
    "name": "ipython",
    "version": 3
   },
   "file_extension": ".py",
   "mimetype": "text/x-python",
   "name": "python",
   "nbconvert_exporter": "python",
   "pygments_lexer": "ipython3",
   "version": "3.7.3"
  }
 },
 "nbformat": 4,
 "nbformat_minor": 2
}
